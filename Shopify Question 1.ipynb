{
    "cells": [
        {
            "cell_type": "code",
            "execution_count": 3,
            "source": [
                "import pandas as pd\r\n",
                "import os\r\n",
                "import matplotlib.pyplot as plt\r\n",
                "import seaborn as sns\r\n",
                "import numpy as np\r\n",
                "from scipy import stats"
            ],
            "outputs": [],
            "metadata": {}
        },
        {
            "cell_type": "code",
            "execution_count": 5,
            "source": [
                "df = pd.read_excel('Shopify_data.xlsx')"
            ],
            "outputs": [],
            "metadata": {}
        },
        {
            "cell_type": "code",
            "execution_count": 14,
            "source": [
                "df.describe()"
            ],
            "outputs": [
                {
                    "output_type": "execute_result",
                    "data": {
                        "text/html": [
                            "<div>\n",
                            "<style scoped>\n",
                            "    .dataframe tbody tr th:only-of-type {\n",
                            "        vertical-align: middle;\n",
                            "    }\n",
                            "\n",
                            "    .dataframe tbody tr th {\n",
                            "        vertical-align: top;\n",
                            "    }\n",
                            "\n",
                            "    .dataframe thead th {\n",
                            "        text-align: right;\n",
                            "    }\n",
                            "</style>\n",
                            "<table border=\"1\" class=\"dataframe\">\n",
                            "  <thead>\n",
                            "    <tr style=\"text-align: right;\">\n",
                            "      <th></th>\n",
                            "      <th>order_id</th>\n",
                            "      <th>shop_id</th>\n",
                            "      <th>user_id</th>\n",
                            "      <th>order_amount</th>\n",
                            "      <th>total_items</th>\n",
                            "    </tr>\n",
                            "  </thead>\n",
                            "  <tbody>\n",
                            "    <tr>\n",
                            "      <th>count</th>\n",
                            "      <td>5000.000000</td>\n",
                            "      <td>5000.000000</td>\n",
                            "      <td>5000.000000</td>\n",
                            "      <td>5000.000000</td>\n",
                            "      <td>5000.00000</td>\n",
                            "    </tr>\n",
                            "    <tr>\n",
                            "      <th>mean</th>\n",
                            "      <td>2500.500000</td>\n",
                            "      <td>50.078800</td>\n",
                            "      <td>849.092400</td>\n",
                            "      <td>3145.128000</td>\n",
                            "      <td>8.78720</td>\n",
                            "    </tr>\n",
                            "    <tr>\n",
                            "      <th>std</th>\n",
                            "      <td>1443.520003</td>\n",
                            "      <td>29.006118</td>\n",
                            "      <td>87.798982</td>\n",
                            "      <td>41282.539349</td>\n",
                            "      <td>116.32032</td>\n",
                            "    </tr>\n",
                            "    <tr>\n",
                            "      <th>min</th>\n",
                            "      <td>1.000000</td>\n",
                            "      <td>1.000000</td>\n",
                            "      <td>607.000000</td>\n",
                            "      <td>90.000000</td>\n",
                            "      <td>1.00000</td>\n",
                            "    </tr>\n",
                            "    <tr>\n",
                            "      <th>25%</th>\n",
                            "      <td>1250.750000</td>\n",
                            "      <td>24.000000</td>\n",
                            "      <td>775.000000</td>\n",
                            "      <td>163.000000</td>\n",
                            "      <td>1.00000</td>\n",
                            "    </tr>\n",
                            "    <tr>\n",
                            "      <th>50%</th>\n",
                            "      <td>2500.500000</td>\n",
                            "      <td>50.000000</td>\n",
                            "      <td>849.000000</td>\n",
                            "      <td>284.000000</td>\n",
                            "      <td>2.00000</td>\n",
                            "    </tr>\n",
                            "    <tr>\n",
                            "      <th>75%</th>\n",
                            "      <td>3750.250000</td>\n",
                            "      <td>75.000000</td>\n",
                            "      <td>925.000000</td>\n",
                            "      <td>390.000000</td>\n",
                            "      <td>3.00000</td>\n",
                            "    </tr>\n",
                            "    <tr>\n",
                            "      <th>max</th>\n",
                            "      <td>5000.000000</td>\n",
                            "      <td>100.000000</td>\n",
                            "      <td>999.000000</td>\n",
                            "      <td>704000.000000</td>\n",
                            "      <td>2000.00000</td>\n",
                            "    </tr>\n",
                            "  </tbody>\n",
                            "</table>\n",
                            "</div>"
                        ],
                        "text/plain": [
                            "          order_id      shop_id      user_id   order_amount  total_items\n",
                            "count  5000.000000  5000.000000  5000.000000    5000.000000   5000.00000\n",
                            "mean   2500.500000    50.078800   849.092400    3145.128000      8.78720\n",
                            "std    1443.520003    29.006118    87.798982   41282.539349    116.32032\n",
                            "min       1.000000     1.000000   607.000000      90.000000      1.00000\n",
                            "25%    1250.750000    24.000000   775.000000     163.000000      1.00000\n",
                            "50%    2500.500000    50.000000   849.000000     284.000000      2.00000\n",
                            "75%    3750.250000    75.000000   925.000000     390.000000      3.00000\n",
                            "max    5000.000000   100.000000   999.000000  704000.000000   2000.00000"
                        ]
                    },
                    "metadata": {},
                    "execution_count": 14
                }
            ],
            "metadata": {}
        },
        {
            "cell_type": "code",
            "execution_count": 17,
            "source": [
                "df.head()"
            ],
            "outputs": [
                {
                    "output_type": "execute_result",
                    "data": {
                        "text/html": [
                            "<div>\n",
                            "<style scoped>\n",
                            "    .dataframe tbody tr th:only-of-type {\n",
                            "        vertical-align: middle;\n",
                            "    }\n",
                            "\n",
                            "    .dataframe tbody tr th {\n",
                            "        vertical-align: top;\n",
                            "    }\n",
                            "\n",
                            "    .dataframe thead th {\n",
                            "        text-align: right;\n",
                            "    }\n",
                            "</style>\n",
                            "<table border=\"1\" class=\"dataframe\">\n",
                            "  <thead>\n",
                            "    <tr style=\"text-align: right;\">\n",
                            "      <th></th>\n",
                            "      <th>order_id</th>\n",
                            "      <th>shop_id</th>\n",
                            "      <th>user_id</th>\n",
                            "      <th>order_amount</th>\n",
                            "      <th>total_items</th>\n",
                            "      <th>payment_method</th>\n",
                            "      <th>created_at</th>\n",
                            "    </tr>\n",
                            "  </thead>\n",
                            "  <tbody>\n",
                            "    <tr>\n",
                            "      <th>0</th>\n",
                            "      <td>1</td>\n",
                            "      <td>53</td>\n",
                            "      <td>746</td>\n",
                            "      <td>224</td>\n",
                            "      <td>2</td>\n",
                            "      <td>cash</td>\n",
                            "      <td>2017-03-13 12:36:56.190</td>\n",
                            "    </tr>\n",
                            "    <tr>\n",
                            "      <th>1</th>\n",
                            "      <td>2</td>\n",
                            "      <td>92</td>\n",
                            "      <td>925</td>\n",
                            "      <td>90</td>\n",
                            "      <td>1</td>\n",
                            "      <td>cash</td>\n",
                            "      <td>2017-03-03 17:38:51.999</td>\n",
                            "    </tr>\n",
                            "    <tr>\n",
                            "      <th>2</th>\n",
                            "      <td>3</td>\n",
                            "      <td>44</td>\n",
                            "      <td>861</td>\n",
                            "      <td>144</td>\n",
                            "      <td>1</td>\n",
                            "      <td>cash</td>\n",
                            "      <td>2017-03-14 04:23:55.595</td>\n",
                            "    </tr>\n",
                            "    <tr>\n",
                            "      <th>3</th>\n",
                            "      <td>4</td>\n",
                            "      <td>18</td>\n",
                            "      <td>935</td>\n",
                            "      <td>156</td>\n",
                            "      <td>1</td>\n",
                            "      <td>credit_card</td>\n",
                            "      <td>2017-03-26 12:43:36.649</td>\n",
                            "    </tr>\n",
                            "    <tr>\n",
                            "      <th>4</th>\n",
                            "      <td>5</td>\n",
                            "      <td>18</td>\n",
                            "      <td>883</td>\n",
                            "      <td>156</td>\n",
                            "      <td>1</td>\n",
                            "      <td>credit_card</td>\n",
                            "      <td>2017-03-01 04:35:10.773</td>\n",
                            "    </tr>\n",
                            "  </tbody>\n",
                            "</table>\n",
                            "</div>"
                        ],
                        "text/plain": [
                            "   order_id  shop_id  user_id  order_amount  total_items payment_method  \\\n",
                            "0         1       53      746           224            2           cash   \n",
                            "1         2       92      925            90            1           cash   \n",
                            "2         3       44      861           144            1           cash   \n",
                            "3         4       18      935           156            1    credit_card   \n",
                            "4         5       18      883           156            1    credit_card   \n",
                            "\n",
                            "               created_at  \n",
                            "0 2017-03-13 12:36:56.190  \n",
                            "1 2017-03-03 17:38:51.999  \n",
                            "2 2017-03-14 04:23:55.595  \n",
                            "3 2017-03-26 12:43:36.649  \n",
                            "4 2017-03-01 04:35:10.773  "
                        ]
                    },
                    "metadata": {},
                    "execution_count": 17
                }
            ],
            "metadata": {}
        },
        {
            "cell_type": "markdown",
            "source": [
                "The Following plots outlines the presence of outliers and the level of skewness of the data."
            ],
            "metadata": {}
        },
        {
            "cell_type": "code",
            "execution_count": 21,
            "source": [
                "plt.boxplot(df['order_amount'])\r\n",
                "fig = plt.figure(figsize=(10, 7))\r\n",
                "plt.show()"
            ],
            "outputs": [
                {
                    "output_type": "display_data",
                    "data": {
                        "image/png": "[encoded data removed]",
                        "text/plain": [
                            "<Figure size 432x288 with 1 Axes>"
                        ]
                    },
                    "metadata": {
                        "needs_background": "light"
                    }
                },
                {
                    "output_type": "display_data",
                    "data": {
                        "text/plain": [
                            "<Figure size 720x504 with 0 Axes>"
                        ]
                    },
                    "metadata": {}
                }
            ],
            "metadata": {}
        },
        {
            "cell_type": "code",
            "execution_count": 23,
            "source": [
                "plt.figure(figsize=(16,5))\r\n",
                "plt.subplot(1,2,1)\r\n",
                "sns.distplot(df['order_amount'])\r\n",
                "plt.show()"
            ],
            "outputs": [
                {
                    "output_type": "stream",
                    "name": "stderr",
                    "text": [
                        "D:\\Anaconda3\\lib\\site-packages\\seaborn\\distributions.py:2557: FutureWarning: `distplot` is a deprecated function and will be removed in a future version. Please adapt your code to use either `displot` (a figure-level function with similar flexibility) or `histplot` (an axes-level function for histograms).\n",
                        "  warnings.warn(msg, FutureWarning)\n"
                    ]
                },
                {
                    "output_type": "display_data",
                    "data": {
                        "image/png": "[encoded data removed]",
                        "text/plain": [
                            "<Figure size 1152x360 with 1 Axes>"
                        ]
                    },
                    "metadata": {
                        "needs_background": "light"
                    }
                }
            ],
            "metadata": {}
        },
        {
            "cell_type": "code",
            "execution_count": 28,
            "source": [
                "plt.boxplot(df['total_items'])\r\n",
                "fig = plt.figure(figsize=(10, 7))\r\n",
                "plt.show()"
            ],
            "outputs": [
                {
                    "output_type": "display_data",
                    "data": {
                        "image/png": "[encoded data removed]",
                        "text/plain": [
                            "<Figure size 432x288 with 1 Axes>"
                        ]
                    },
                    "metadata": {
                        "needs_background": "light"
                    }
                },
                {
                    "output_type": "display_data",
                    "data": {
                        "text/plain": [
                            "<Figure size 720x504 with 0 Axes>"
                        ]
                    },
                    "metadata": {}
                }
            ],
            "metadata": {}
        },
        {
            "cell_type": "code",
            "execution_count": 27,
            "source": [
                "plt.figure(figsize=(16,5))\r\n",
                "plt.subplot(1,2,1)\r\n",
                "sns.distplot(df['total_items'])\r\n",
                "plt.show()"
            ],
            "outputs": [
                {
                    "output_type": "stream",
                    "name": "stderr",
                    "text": [
                        "D:\\Anaconda3\\lib\\site-packages\\seaborn\\distributions.py:2557: FutureWarning: `distplot` is a deprecated function and will be removed in a future version. Please adapt your code to use either `displot` (a figure-level function with similar flexibility) or `histplot` (an axes-level function for histograms).\n",
                        "  warnings.warn(msg, FutureWarning)\n"
                    ]
                },
                {
                    "output_type": "display_data",
                    "data": {
                        "image/png": "[encoded data removed]",
                        "text/plain": [
                            "<Figure size 1152x360 with 1 Axes>"
                        ]
                    },
                    "metadata": {
                        "needs_background": "light"
                    }
                }
            ],
            "metadata": {}
        },
        {
            "cell_type": "markdown",
            "source": [
                "As we could see in the above plots there are some outliers and there is skewness present in the data. Now we check the amount of skewness and apply two data transformation: - Log Transformation and BoxCox to handle the skewness."
            ],
            "metadata": {}
        },
        {
            "cell_type": "code",
            "execution_count": 24,
            "source": [
                "# To Check the level of skewness in the data\r\n",
                "df.skew()"
            ],
            "outputs": [
                {
                    "output_type": "execute_result",
                    "data": {
                        "text/plain": [
                            "order_id         0.000000\n",
                            "shop_id          0.013830\n",
                            "user_id         -0.034052\n",
                            "order_amount    16.675033\n",
                            "total_items     17.065556\n",
                            "dtype: float64"
                        ]
                    },
                    "metadata": {},
                    "execution_count": 24
                }
            ],
            "metadata": {}
        },
        {
            "cell_type": "code",
            "execution_count": 26,
            "source": [
                "df.isna().sum()"
            ],
            "outputs": [
                {
                    "output_type": "execute_result",
                    "data": {
                        "text/plain": [
                            "order_id          0\n",
                            "shop_id           0\n",
                            "user_id           0\n",
                            "order_amount      0\n",
                            "total_items       0\n",
                            "payment_method    0\n",
                            "created_at        0\n",
                            "dtype: int64"
                        ]
                    },
                    "metadata": {},
                    "execution_count": 26
                }
            ],
            "metadata": {}
        },
        {
            "cell_type": "code",
            "execution_count": 11,
            "source": [
                "order_amount_log = np.log(df['order_amount'])\r\n",
                "order_amount_log.skew()"
            ],
            "outputs": [
                {
                    "output_type": "execute_result",
                    "data": {
                        "text/plain": [
                            "4.603344921462538"
                        ]
                    },
                    "metadata": {},
                    "execution_count": 11
                }
            ],
            "metadata": {}
        },
        {
            "cell_type": "code",
            "execution_count": 12,
            "source": [
                "total_items_log = np.log(df['total_items'])\r\n",
                "total_items_log.skew()"
            ],
            "outputs": [
                {
                    "output_type": "execute_result",
                    "data": {
                        "text/plain": [
                            "4.545786092312774"
                        ]
                    },
                    "metadata": {},
                    "execution_count": 12
                }
            ],
            "metadata": {}
        },
        {
            "cell_type": "code",
            "execution_count": 7,
            "source": [
                "plt.figure(figsize=(16,5))\r\n",
                "plt.subplot(1,2,1)\r\n",
                "sns.distplot(order_amount_log)\r\n",
                "plt.show()"
            ],
            "outputs": [
                {
                    "output_type": "stream",
                    "name": "stderr",
                    "text": [
                        "D:\\Anaconda3\\lib\\site-packages\\seaborn\\distributions.py:2557: FutureWarning: `distplot` is a deprecated function and will be removed in a future version. Please adapt your code to use either `displot` (a figure-level function with similar flexibility) or `histplot` (an axes-level function for histograms).\n",
                        "  warnings.warn(msg, FutureWarning)\n"
                    ]
                },
                {
                    "output_type": "display_data",
                    "data": {
                        "image/png": "[encoded data removed]",
                        "text/plain": [
                            "<Figure size 1152x360 with 1 Axes>"
                        ]
                    },
                    "metadata": {
                        "needs_background": "light"
                    }
                }
            ],
            "metadata": {}
        },
        {
            "cell_type": "code",
            "execution_count": 13,
            "source": [
                "plt.figure(figsize=(16,5))\r\n",
                "plt.subplot(1,2,1)\r\n",
                "sns.distplot(total_items_log)\r\n",
                "plt.show()"
            ],
            "outputs": [
                {
                    "output_type": "stream",
                    "name": "stderr",
                    "text": [
                        "D:\\Anaconda3\\lib\\site-packages\\seaborn\\distributions.py:2557: FutureWarning: `distplot` is a deprecated function and will be removed in a future version. Please adapt your code to use either `displot` (a figure-level function with similar flexibility) or `histplot` (an axes-level function for histograms).\n",
                        "  warnings.warn(msg, FutureWarning)\n"
                    ]
                },
                {
                    "output_type": "display_data",
                    "data": {
                        "image/png": "[encoded data removed]",
                        "text/plain": [
                            "<Figure size 1152x360 with 1 Axes>"
                        ]
                    },
                    "metadata": {
                        "needs_background": "light"
                    }
                }
            ],
            "metadata": {}
        },
        {
            "cell_type": "code",
            "execution_count": 8,
            "source": [
                "order_amount_bc = stats.boxcox(df['order_amount'])[0]\r\n",
                "pd.Series(order_amount_bc).skew()"
            ],
            "outputs": [
                {
                    "output_type": "execute_result",
                    "data": {
                        "text/plain": [
                            "-0.013781765336292034"
                        ]
                    },
                    "metadata": {},
                    "execution_count": 8
                }
            ],
            "metadata": {}
        },
        {
            "cell_type": "code",
            "execution_count": 14,
            "source": [
                "total_items_bc = stats.boxcox(df['total_items'])[0]\r\n",
                "pd.Series(total_items_bc).skew()"
            ],
            "outputs": [
                {
                    "output_type": "execute_result",
                    "data": {
                        "text/plain": [
                            "0.024281859186685174"
                        ]
                    },
                    "metadata": {},
                    "execution_count": 14
                }
            ],
            "metadata": {}
        },
        {
            "cell_type": "code",
            "execution_count": 20,
            "source": [
                "plt.figure(figsize=(16,5))\r\n",
                "plt.subplot(1,2,1)\r\n",
                "sns.distplot(order_amount_bc)\r\n",
                "plt.show()"
            ],
            "outputs": [
                {
                    "output_type": "stream",
                    "name": "stderr",
                    "text": [
                        "D:\\Anaconda3\\lib\\site-packages\\seaborn\\distributions.py:2557: FutureWarning: `distplot` is a deprecated function and will be removed in a future version. Please adapt your code to use either `displot` (a figure-level function with similar flexibility) or `histplot` (an axes-level function for histograms).\n",
                        "  warnings.warn(msg, FutureWarning)\n"
                    ]
                },
                {
                    "output_type": "display_data",
                    "data": {
                        "image/png": "[encoded data removed]",
                        "text/plain": [
                            "<Figure size 1152x360 with 1 Axes>"
                        ]
                    },
                    "metadata": {
                        "needs_background": "light"
                    }
                }
            ],
            "metadata": {}
        },
        {
            "cell_type": "code",
            "execution_count": 19,
            "source": [
                "plt.figure(figsize=(16,5))\r\n",
                "plt.subplot(1,2,1)\r\n",
                "sns.distplot(total_items_bc)\r\n",
                "plt.show()"
            ],
            "outputs": [
                {
                    "output_type": "stream",
                    "name": "stderr",
                    "text": [
                        "D:\\Anaconda3\\lib\\site-packages\\seaborn\\distributions.py:2557: FutureWarning: `distplot` is a deprecated function and will be removed in a future version. Please adapt your code to use either `displot` (a figure-level function with similar flexibility) or `histplot` (an axes-level function for histograms).\n",
                        "  warnings.warn(msg, FutureWarning)\n"
                    ]
                },
                {
                    "output_type": "display_data",
                    "data": {
                        "image/png": "[encoded data removed]",
                        "text/plain": [
                            "<Figure size 1152x360 with 1 Axes>"
                        ]
                    },
                    "metadata": {
                        "needs_background": "light"
                    }
                }
            ],
            "metadata": {}
        },
        {
            "cell_type": "markdown",
            "source": [
                "Log Transformation and BoxCox Technique were both very effective in handling the outlier which was not taken in consideration in the question's Average Order Value(AOV) Technique. Hence the metric question got is flawed."
            ],
            "metadata": {}
        },
        {
            "cell_type": "code",
            "execution_count": 38,
            "source": [
                "df_user = pd.DataFrame({'mean_amount': df.groupby('user_id')['order_amount'].mean()}).reset_index()\r\n",
                "df_user"
            ],
            "outputs": [
                {
                    "output_type": "execute_result",
                    "data": {
                        "text/html": [
                            "<div>\n",
                            "<style scoped>\n",
                            "    .dataframe tbody tr th:only-of-type {\n",
                            "        vertical-align: middle;\n",
                            "    }\n",
                            "\n",
                            "    .dataframe tbody tr th {\n",
                            "        vertical-align: top;\n",
                            "    }\n",
                            "\n",
                            "    .dataframe thead th {\n",
                            "        text-align: right;\n",
                            "    }\n",
                            "</style>\n",
                            "<table border=\"1\" class=\"dataframe\">\n",
                            "  <thead>\n",
                            "    <tr style=\"text-align: right;\">\n",
                            "      <th></th>\n",
                            "      <th>user_id</th>\n",
                            "      <th>mean_amount</th>\n",
                            "    </tr>\n",
                            "  </thead>\n",
                            "  <tbody>\n",
                            "    <tr>\n",
                            "      <th>0</th>\n",
                            "      <td>607</td>\n",
                            "      <td>704000.000000</td>\n",
                            "    </tr>\n",
                            "    <tr>\n",
                            "      <th>1</th>\n",
                            "      <td>700</td>\n",
                            "      <td>299.375000</td>\n",
                            "    </tr>\n",
                            "    <tr>\n",
                            "      <th>2</th>\n",
                            "      <td>701</td>\n",
                            "      <td>397.076923</td>\n",
                            "    </tr>\n",
                            "    <tr>\n",
                            "      <th>3</th>\n",
                            "      <td>702</td>\n",
                            "      <td>406.615385</td>\n",
                            "    </tr>\n",
                            "    <tr>\n",
                            "      <th>4</th>\n",
                            "      <td>703</td>\n",
                            "      <td>380.687500</td>\n",
                            "    </tr>\n",
                            "    <tr>\n",
                            "      <th>...</th>\n",
                            "      <td>...</td>\n",
                            "      <td>...</td>\n",
                            "    </tr>\n",
                            "    <tr>\n",
                            "      <th>296</th>\n",
                            "      <td>995</td>\n",
                            "      <td>354.400000</td>\n",
                            "    </tr>\n",
                            "    <tr>\n",
                            "      <th>297</th>\n",
                            "      <td>996</td>\n",
                            "      <td>252.952381</td>\n",
                            "    </tr>\n",
                            "    <tr>\n",
                            "      <th>298</th>\n",
                            "      <td>997</td>\n",
                            "      <td>2248.923077</td>\n",
                            "    </tr>\n",
                            "    <tr>\n",
                            "      <th>299</th>\n",
                            "      <td>998</td>\n",
                            "      <td>291.111111</td>\n",
                            "    </tr>\n",
                            "    <tr>\n",
                            "      <th>300</th>\n",
                            "      <td>999</td>\n",
                            "      <td>299.791667</td>\n",
                            "    </tr>\n",
                            "  </tbody>\n",
                            "</table>\n",
                            "<p>301 rows × 2 columns</p>\n",
                            "</div>"
                        ],
                        "text/plain": [
                            "     user_id    mean_amount\n",
                            "0        607  704000.000000\n",
                            "1        700     299.375000\n",
                            "2        701     397.076923\n",
                            "3        702     406.615385\n",
                            "4        703     380.687500\n",
                            "..       ...            ...\n",
                            "296      995     354.400000\n",
                            "297      996     252.952381\n",
                            "298      997    2248.923077\n",
                            "299      998     291.111111\n",
                            "300      999     299.791667\n",
                            "\n",
                            "[301 rows x 2 columns]"
                        ]
                    },
                    "metadata": {},
                    "execution_count": 38
                }
            ],
            "metadata": {}
        },
        {
            "cell_type": "code",
            "execution_count": 35,
            "source": [
                "len(df[df['user_id']==607])"
            ],
            "outputs": [
                {
                    "output_type": "execute_result",
                    "data": {
                        "text/plain": [
                            "17"
                        ]
                    },
                    "metadata": {},
                    "execution_count": 35
                }
            ],
            "metadata": {}
        },
        {
            "cell_type": "markdown",
            "source": [
                "User ID 607 purchased 17 times from the same shop(ShopID = 42) with the same order amount(order_amount = 704000) and total_items(total_items = 2000) which is highly suspicious. This tends to skewed data."
            ],
            "metadata": {}
        },
        {
            "cell_type": "markdown",
            "source": [
                "Removing this value from our data"
            ],
            "metadata": {}
        },
        {
            "cell_type": "code",
            "execution_count": 39,
            "source": [
                "df_sub = df_user[df_user['user_id']!=607]\r\n",
                "df_sub.describe()"
            ],
            "outputs": [
                {
                    "output_type": "execute_result",
                    "data": {
                        "text/html": [
                            "<div>\n",
                            "<style scoped>\n",
                            "    .dataframe tbody tr th:only-of-type {\n",
                            "        vertical-align: middle;\n",
                            "    }\n",
                            "\n",
                            "    .dataframe tbody tr th {\n",
                            "        vertical-align: top;\n",
                            "    }\n",
                            "\n",
                            "    .dataframe thead th {\n",
                            "        text-align: right;\n",
                            "    }\n",
                            "</style>\n",
                            "<table border=\"1\" class=\"dataframe\">\n",
                            "  <thead>\n",
                            "    <tr style=\"text-align: right;\">\n",
                            "      <th></th>\n",
                            "      <th>user_id</th>\n",
                            "      <th>mean_amount</th>\n",
                            "    </tr>\n",
                            "  </thead>\n",
                            "  <tbody>\n",
                            "    <tr>\n",
                            "      <th>count</th>\n",
                            "      <td>300.000000</td>\n",
                            "      <td>300.000000</td>\n",
                            "    </tr>\n",
                            "    <tr>\n",
                            "      <th>mean</th>\n",
                            "      <td>849.500000</td>\n",
                            "      <td>784.945856</td>\n",
                            "    </tr>\n",
                            "    <tr>\n",
                            "      <th>std</th>\n",
                            "      <td>86.746758</td>\n",
                            "      <td>1429.818639</td>\n",
                            "    </tr>\n",
                            "    <tr>\n",
                            "      <th>min</th>\n",
                            "      <td>700.000000</td>\n",
                            "      <td>209.157895</td>\n",
                            "    </tr>\n",
                            "    <tr>\n",
                            "      <th>25%</th>\n",
                            "      <td>774.750000</td>\n",
                            "      <td>282.553571</td>\n",
                            "    </tr>\n",
                            "    <tr>\n",
                            "      <th>50%</th>\n",
                            "      <td>849.500000</td>\n",
                            "      <td>312.188235</td>\n",
                            "    </tr>\n",
                            "    <tr>\n",
                            "      <th>75%</th>\n",
                            "      <td>924.250000</td>\n",
                            "      <td>348.709627</td>\n",
                            "    </tr>\n",
                            "    <tr>\n",
                            "      <th>max</th>\n",
                            "      <td>999.000000</td>\n",
                            "      <td>14266.909091</td>\n",
                            "    </tr>\n",
                            "  </tbody>\n",
                            "</table>\n",
                            "</div>"
                        ],
                        "text/plain": [
                            "          user_id   mean_amount\n",
                            "count  300.000000    300.000000\n",
                            "mean   849.500000    784.945856\n",
                            "std     86.746758   1429.818639\n",
                            "min    700.000000    209.157895\n",
                            "25%    774.750000    282.553571\n",
                            "50%    849.500000    312.188235\n",
                            "75%    924.250000    348.709627\n",
                            "max    999.000000  14266.909091"
                        ]
                    },
                    "metadata": {},
                    "execution_count": 39
                }
            ],
            "metadata": {}
        },
        {
            "cell_type": "code",
            "execution_count": 41,
            "source": [
                "df_sub.sort_values(by='mean_amount', ascending=False)"
            ],
            "outputs": [
                {
                    "output_type": "execute_result",
                    "data": {
                        "text/html": [
                            "<div>\n",
                            "<style scoped>\n",
                            "    .dataframe tbody tr th:only-of-type {\n",
                            "        vertical-align: middle;\n",
                            "    }\n",
                            "\n",
                            "    .dataframe tbody tr th {\n",
                            "        vertical-align: top;\n",
                            "    }\n",
                            "\n",
                            "    .dataframe thead th {\n",
                            "        text-align: right;\n",
                            "    }\n",
                            "</style>\n",
                            "<table border=\"1\" class=\"dataframe\">\n",
                            "  <thead>\n",
                            "    <tr style=\"text-align: right;\">\n",
                            "      <th></th>\n",
                            "      <th>user_id</th>\n",
                            "      <th>mean_amount</th>\n",
                            "    </tr>\n",
                            "  </thead>\n",
                            "  <tbody>\n",
                            "    <tr>\n",
                            "      <th>179</th>\n",
                            "      <td>878</td>\n",
                            "      <td>14266.909091</td>\n",
                            "    </tr>\n",
                            "    <tr>\n",
                            "      <th>67</th>\n",
                            "      <td>766</td>\n",
                            "      <td>8007.600000</td>\n",
                            "    </tr>\n",
                            "    <tr>\n",
                            "      <th>135</th>\n",
                            "      <td>834</td>\n",
                            "      <td>6019.000000</td>\n",
                            "    </tr>\n",
                            "    <tr>\n",
                            "      <th>216</th>\n",
                            "      <td>915</td>\n",
                            "      <td>5785.142857</td>\n",
                            "    </tr>\n",
                            "    <tr>\n",
                            "      <th>263</th>\n",
                            "      <td>962</td>\n",
                            "      <td>5743.428571</td>\n",
                            "    </tr>\n",
                            "    <tr>\n",
                            "      <th>...</th>\n",
                            "      <td>...</td>\n",
                            "      <td>...</td>\n",
                            "    </tr>\n",
                            "    <tr>\n",
                            "      <th>193</th>\n",
                            "      <td>892</td>\n",
                            "      <td>227.307692</td>\n",
                            "    </tr>\n",
                            "    <tr>\n",
                            "      <th>200</th>\n",
                            "      <td>899</td>\n",
                            "      <td>226.666667</td>\n",
                            "    </tr>\n",
                            "    <tr>\n",
                            "      <th>128</th>\n",
                            "      <td>827</td>\n",
                            "      <td>226.500000</td>\n",
                            "    </tr>\n",
                            "    <tr>\n",
                            "      <th>240</th>\n",
                            "      <td>939</td>\n",
                            "      <td>219.600000</td>\n",
                            "    </tr>\n",
                            "    <tr>\n",
                            "      <th>165</th>\n",
                            "      <td>864</td>\n",
                            "      <td>209.157895</td>\n",
                            "    </tr>\n",
                            "  </tbody>\n",
                            "</table>\n",
                            "<p>300 rows × 2 columns</p>\n",
                            "</div>"
                        ],
                        "text/plain": [
                            "     user_id   mean_amount\n",
                            "179      878  14266.909091\n",
                            "67       766   8007.600000\n",
                            "135      834   6019.000000\n",
                            "216      915   5785.142857\n",
                            "263      962   5743.428571\n",
                            "..       ...           ...\n",
                            "193      892    227.307692\n",
                            "200      899    226.666667\n",
                            "128      827    226.500000\n",
                            "240      939    219.600000\n",
                            "165      864    209.157895\n",
                            "\n",
                            "[300 rows x 2 columns]"
                        ]
                    },
                    "metadata": {},
                    "execution_count": 41
                }
            ],
            "metadata": {}
        },
        {
            "cell_type": "markdown",
            "source": [
                "We notice that user id 878 also has a very high mean amount. Let us explore the data with respect to this user id."
            ],
            "metadata": {}
        },
        {
            "cell_type": "code",
            "execution_count": 43,
            "source": [
                "df[df['user_id'] == 878]"
            ],
            "outputs": [
                {
                    "output_type": "execute_result",
                    "data": {
                        "text/html": [
                            "<div>\n",
                            "<style scoped>\n",
                            "    .dataframe tbody tr th:only-of-type {\n",
                            "        vertical-align: middle;\n",
                            "    }\n",
                            "\n",
                            "    .dataframe tbody tr th {\n",
                            "        vertical-align: top;\n",
                            "    }\n",
                            "\n",
                            "    .dataframe thead th {\n",
                            "        text-align: right;\n",
                            "    }\n",
                            "</style>\n",
                            "<table border=\"1\" class=\"dataframe\">\n",
                            "  <thead>\n",
                            "    <tr style=\"text-align: right;\">\n",
                            "      <th></th>\n",
                            "      <th>order_id</th>\n",
                            "      <th>shop_id</th>\n",
                            "      <th>user_id</th>\n",
                            "      <th>order_amount</th>\n",
                            "      <th>total_items</th>\n",
                            "      <th>payment_method</th>\n",
                            "      <th>created_at</th>\n",
                            "    </tr>\n",
                            "  </thead>\n",
                            "  <tbody>\n",
                            "    <tr>\n",
                            "      <th>691</th>\n",
                            "      <td>692</td>\n",
                            "      <td>78</td>\n",
                            "      <td>878</td>\n",
                            "      <td>154350</td>\n",
                            "      <td>6</td>\n",
                            "      <td>debit</td>\n",
                            "      <td>2017-03-27 22:51:43.203</td>\n",
                            "    </tr>\n",
                            "    <tr>\n",
                            "      <th>818</th>\n",
                            "      <td>819</td>\n",
                            "      <td>60</td>\n",
                            "      <td>878</td>\n",
                            "      <td>354</td>\n",
                            "      <td>2</td>\n",
                            "      <td>debit</td>\n",
                            "      <td>2017-03-27 12:42:00.615</td>\n",
                            "    </tr>\n",
                            "    <tr>\n",
                            "      <th>927</th>\n",
                            "      <td>928</td>\n",
                            "      <td>2</td>\n",
                            "      <td>878</td>\n",
                            "      <td>94</td>\n",
                            "      <td>1</td>\n",
                            "      <td>credit_card</td>\n",
                            "      <td>2017-03-10 18:09:05.042</td>\n",
                            "    </tr>\n",
                            "    <tr>\n",
                            "      <th>1575</th>\n",
                            "      <td>1576</td>\n",
                            "      <td>47</td>\n",
                            "      <td>878</td>\n",
                            "      <td>290</td>\n",
                            "      <td>2</td>\n",
                            "      <td>cash</td>\n",
                            "      <td>2017-03-07 22:06:51.066</td>\n",
                            "    </tr>\n",
                            "    <tr>\n",
                            "      <th>1833</th>\n",
                            "      <td>1834</td>\n",
                            "      <td>74</td>\n",
                            "      <td>878</td>\n",
                            "      <td>153</td>\n",
                            "      <td>1</td>\n",
                            "      <td>credit_card</td>\n",
                            "      <td>2017-03-06 17:33:21.179</td>\n",
                            "    </tr>\n",
                            "    <tr>\n",
                            "      <th>2011</th>\n",
                            "      <td>2012</td>\n",
                            "      <td>87</td>\n",
                            "      <td>878</td>\n",
                            "      <td>298</td>\n",
                            "      <td>2</td>\n",
                            "      <td>cash</td>\n",
                            "      <td>2017-03-04 14:14:34.505</td>\n",
                            "    </tr>\n",
                            "    <tr>\n",
                            "      <th>3474</th>\n",
                            "      <td>3475</td>\n",
                            "      <td>20</td>\n",
                            "      <td>878</td>\n",
                            "      <td>254</td>\n",
                            "      <td>2</td>\n",
                            "      <td>cash</td>\n",
                            "      <td>2017-03-17 03:43:03.244</td>\n",
                            "    </tr>\n",
                            "    <tr>\n",
                            "      <th>3647</th>\n",
                            "      <td>3648</td>\n",
                            "      <td>98</td>\n",
                            "      <td>878</td>\n",
                            "      <td>266</td>\n",
                            "      <td>2</td>\n",
                            "      <td>cash</td>\n",
                            "      <td>2017-03-06 01:49:57.437</td>\n",
                            "    </tr>\n",
                            "    <tr>\n",
                            "      <th>4106</th>\n",
                            "      <td>4107</td>\n",
                            "      <td>26</td>\n",
                            "      <td>878</td>\n",
                            "      <td>176</td>\n",
                            "      <td>1</td>\n",
                            "      <td>debit</td>\n",
                            "      <td>2017-03-20 04:32:18.077</td>\n",
                            "    </tr>\n",
                            "    <tr>\n",
                            "      <th>4215</th>\n",
                            "      <td>4216</td>\n",
                            "      <td>80</td>\n",
                            "      <td>878</td>\n",
                            "      <td>435</td>\n",
                            "      <td>3</td>\n",
                            "      <td>debit</td>\n",
                            "      <td>2017-03-05 03:07:32.084</td>\n",
                            "    </tr>\n",
                            "    <tr>\n",
                            "      <th>4670</th>\n",
                            "      <td>4671</td>\n",
                            "      <td>98</td>\n",
                            "      <td>878</td>\n",
                            "      <td>266</td>\n",
                            "      <td>2</td>\n",
                            "      <td>debit</td>\n",
                            "      <td>2017-03-30 00:22:19.920</td>\n",
                            "    </tr>\n",
                            "  </tbody>\n",
                            "</table>\n",
                            "</div>"
                        ],
                        "text/plain": [
                            "      order_id  shop_id  user_id  order_amount  total_items payment_method  \\\n",
                            "691        692       78      878        154350            6          debit   \n",
                            "818        819       60      878           354            2          debit   \n",
                            "927        928        2      878            94            1    credit_card   \n",
                            "1575      1576       47      878           290            2           cash   \n",
                            "1833      1834       74      878           153            1    credit_card   \n",
                            "2011      2012       87      878           298            2           cash   \n",
                            "3474      3475       20      878           254            2           cash   \n",
                            "3647      3648       98      878           266            2           cash   \n",
                            "4106      4107       26      878           176            1          debit   \n",
                            "4215      4216       80      878           435            3          debit   \n",
                            "4670      4671       98      878           266            2          debit   \n",
                            "\n",
                            "                  created_at  \n",
                            "691  2017-03-27 22:51:43.203  \n",
                            "818  2017-03-27 12:42:00.615  \n",
                            "927  2017-03-10 18:09:05.042  \n",
                            "1575 2017-03-07 22:06:51.066  \n",
                            "1833 2017-03-06 17:33:21.179  \n",
                            "2011 2017-03-04 14:14:34.505  \n",
                            "3474 2017-03-17 03:43:03.244  \n",
                            "3647 2017-03-06 01:49:57.437  \n",
                            "4106 2017-03-20 04:32:18.077  \n",
                            "4215 2017-03-05 03:07:32.084  \n",
                            "4670 2017-03-30 00:22:19.920  "
                        ]
                    },
                    "metadata": {},
                    "execution_count": 43
                }
            ],
            "metadata": {}
        },
        {
            "cell_type": "markdown",
            "source": [
                "We noticed that user_id 878 has a high order amount for shop_id 78. Let us now explore shop_id 78."
            ],
            "metadata": {}
        },
        {
            "cell_type": "code",
            "execution_count": 44,
            "source": [
                "df[df['shop_id'] == 78]"
            ],
            "outputs": [
                {
                    "output_type": "execute_result",
                    "data": {
                        "text/html": [
                            "<div>\n",
                            "<style scoped>\n",
                            "    .dataframe tbody tr th:only-of-type {\n",
                            "        vertical-align: middle;\n",
                            "    }\n",
                            "\n",
                            "    .dataframe tbody tr th {\n",
                            "        vertical-align: top;\n",
                            "    }\n",
                            "\n",
                            "    .dataframe thead th {\n",
                            "        text-align: right;\n",
                            "    }\n",
                            "</style>\n",
                            "<table border=\"1\" class=\"dataframe\">\n",
                            "  <thead>\n",
                            "    <tr style=\"text-align: right;\">\n",
                            "      <th></th>\n",
                            "      <th>order_id</th>\n",
                            "      <th>shop_id</th>\n",
                            "      <th>user_id</th>\n",
                            "      <th>order_amount</th>\n",
                            "      <th>total_items</th>\n",
                            "      <th>payment_method</th>\n",
                            "      <th>created_at</th>\n",
                            "    </tr>\n",
                            "  </thead>\n",
                            "  <tbody>\n",
                            "    <tr>\n",
                            "      <th>160</th>\n",
                            "      <td>161</td>\n",
                            "      <td>78</td>\n",
                            "      <td>990</td>\n",
                            "      <td>25725</td>\n",
                            "      <td>1</td>\n",
                            "      <td>credit_card</td>\n",
                            "      <td>2017-03-12 05:56:56.834</td>\n",
                            "    </tr>\n",
                            "    <tr>\n",
                            "      <th>490</th>\n",
                            "      <td>491</td>\n",
                            "      <td>78</td>\n",
                            "      <td>936</td>\n",
                            "      <td>51450</td>\n",
                            "      <td>2</td>\n",
                            "      <td>debit</td>\n",
                            "      <td>2017-03-26 17:08:18.911</td>\n",
                            "    </tr>\n",
                            "    <tr>\n",
                            "      <th>493</th>\n",
                            "      <td>494</td>\n",
                            "      <td>78</td>\n",
                            "      <td>983</td>\n",
                            "      <td>51450</td>\n",
                            "      <td>2</td>\n",
                            "      <td>cash</td>\n",
                            "      <td>2017-03-16 21:39:35.400</td>\n",
                            "    </tr>\n",
                            "    <tr>\n",
                            "      <th>511</th>\n",
                            "      <td>512</td>\n",
                            "      <td>78</td>\n",
                            "      <td>967</td>\n",
                            "      <td>51450</td>\n",
                            "      <td>2</td>\n",
                            "      <td>cash</td>\n",
                            "      <td>2017-03-09 07:23:13.640</td>\n",
                            "    </tr>\n",
                            "    <tr>\n",
                            "      <th>617</th>\n",
                            "      <td>618</td>\n",
                            "      <td>78</td>\n",
                            "      <td>760</td>\n",
                            "      <td>51450</td>\n",
                            "      <td>2</td>\n",
                            "      <td>cash</td>\n",
                            "      <td>2017-03-18 11:18:41.848</td>\n",
                            "    </tr>\n",
                            "    <tr>\n",
                            "      <th>691</th>\n",
                            "      <td>692</td>\n",
                            "      <td>78</td>\n",
                            "      <td>878</td>\n",
                            "      <td>154350</td>\n",
                            "      <td>6</td>\n",
                            "      <td>debit</td>\n",
                            "      <td>2017-03-27 22:51:43.203</td>\n",
                            "    </tr>\n",
                            "    <tr>\n",
                            "      <th>1056</th>\n",
                            "      <td>1057</td>\n",
                            "      <td>78</td>\n",
                            "      <td>800</td>\n",
                            "      <td>25725</td>\n",
                            "      <td>1</td>\n",
                            "      <td>debit</td>\n",
                            "      <td>2017-03-15 10:16:44.830</td>\n",
                            "    </tr>\n",
                            "    <tr>\n",
                            "      <th>1193</th>\n",
                            "      <td>1194</td>\n",
                            "      <td>78</td>\n",
                            "      <td>944</td>\n",
                            "      <td>25725</td>\n",
                            "      <td>1</td>\n",
                            "      <td>debit</td>\n",
                            "      <td>2017-03-16 16:38:25.551</td>\n",
                            "    </tr>\n",
                            "    <tr>\n",
                            "      <th>1204</th>\n",
                            "      <td>1205</td>\n",
                            "      <td>78</td>\n",
                            "      <td>970</td>\n",
                            "      <td>25725</td>\n",
                            "      <td>1</td>\n",
                            "      <td>credit_card</td>\n",
                            "      <td>2017-03-17 22:32:21.438</td>\n",
                            "    </tr>\n",
                            "    <tr>\n",
                            "      <th>1259</th>\n",
                            "      <td>1260</td>\n",
                            "      <td>78</td>\n",
                            "      <td>775</td>\n",
                            "      <td>77175</td>\n",
                            "      <td>3</td>\n",
                            "      <td>credit_card</td>\n",
                            "      <td>2017-03-27 09:27:19.843</td>\n",
                            "    </tr>\n",
                            "    <tr>\n",
                            "      <th>1384</th>\n",
                            "      <td>1385</td>\n",
                            "      <td>78</td>\n",
                            "      <td>867</td>\n",
                            "      <td>25725</td>\n",
                            "      <td>1</td>\n",
                            "      <td>cash</td>\n",
                            "      <td>2017-03-17 16:38:06.279</td>\n",
                            "    </tr>\n",
                            "    <tr>\n",
                            "      <th>1419</th>\n",
                            "      <td>1420</td>\n",
                            "      <td>78</td>\n",
                            "      <td>912</td>\n",
                            "      <td>25725</td>\n",
                            "      <td>1</td>\n",
                            "      <td>cash</td>\n",
                            "      <td>2017-03-30 12:23:42.551</td>\n",
                            "    </tr>\n",
                            "    <tr>\n",
                            "      <th>1452</th>\n",
                            "      <td>1453</td>\n",
                            "      <td>78</td>\n",
                            "      <td>812</td>\n",
                            "      <td>25725</td>\n",
                            "      <td>1</td>\n",
                            "      <td>credit_card</td>\n",
                            "      <td>2017-03-17 18:09:54.089</td>\n",
                            "    </tr>\n",
                            "    <tr>\n",
                            "      <th>1529</th>\n",
                            "      <td>1530</td>\n",
                            "      <td>78</td>\n",
                            "      <td>810</td>\n",
                            "      <td>51450</td>\n",
                            "      <td>2</td>\n",
                            "      <td>cash</td>\n",
                            "      <td>2017-03-29 07:12:01.466</td>\n",
                            "    </tr>\n",
                            "    <tr>\n",
                            "      <th>2270</th>\n",
                            "      <td>2271</td>\n",
                            "      <td>78</td>\n",
                            "      <td>855</td>\n",
                            "      <td>25725</td>\n",
                            "      <td>1</td>\n",
                            "      <td>credit_card</td>\n",
                            "      <td>2017-03-14 23:58:21.635</td>\n",
                            "    </tr>\n",
                            "    <tr>\n",
                            "      <th>2452</th>\n",
                            "      <td>2453</td>\n",
                            "      <td>78</td>\n",
                            "      <td>709</td>\n",
                            "      <td>51450</td>\n",
                            "      <td>2</td>\n",
                            "      <td>cash</td>\n",
                            "      <td>2017-03-27 11:04:04.363</td>\n",
                            "    </tr>\n",
                            "    <tr>\n",
                            "      <th>2492</th>\n",
                            "      <td>2493</td>\n",
                            "      <td>78</td>\n",
                            "      <td>834</td>\n",
                            "      <td>102900</td>\n",
                            "      <td>4</td>\n",
                            "      <td>debit</td>\n",
                            "      <td>2017-03-04 04:37:33.848</td>\n",
                            "    </tr>\n",
                            "    <tr>\n",
                            "      <th>2495</th>\n",
                            "      <td>2496</td>\n",
                            "      <td>78</td>\n",
                            "      <td>707</td>\n",
                            "      <td>51450</td>\n",
                            "      <td>2</td>\n",
                            "      <td>cash</td>\n",
                            "      <td>2017-03-26 04:38:52.497</td>\n",
                            "    </tr>\n",
                            "    <tr>\n",
                            "      <th>2512</th>\n",
                            "      <td>2513</td>\n",
                            "      <td>78</td>\n",
                            "      <td>935</td>\n",
                            "      <td>51450</td>\n",
                            "      <td>2</td>\n",
                            "      <td>debit</td>\n",
                            "      <td>2017-03-18 18:57:13.421</td>\n",
                            "    </tr>\n",
                            "    <tr>\n",
                            "      <th>2548</th>\n",
                            "      <td>2549</td>\n",
                            "      <td>78</td>\n",
                            "      <td>861</td>\n",
                            "      <td>25725</td>\n",
                            "      <td>1</td>\n",
                            "      <td>cash</td>\n",
                            "      <td>2017-03-17 19:35:59.663</td>\n",
                            "    </tr>\n",
                            "    <tr>\n",
                            "      <th>2564</th>\n",
                            "      <td>2565</td>\n",
                            "      <td>78</td>\n",
                            "      <td>915</td>\n",
                            "      <td>77175</td>\n",
                            "      <td>3</td>\n",
                            "      <td>debit</td>\n",
                            "      <td>2017-03-25 01:19:35.410</td>\n",
                            "    </tr>\n",
                            "    <tr>\n",
                            "      <th>2690</th>\n",
                            "      <td>2691</td>\n",
                            "      <td>78</td>\n",
                            "      <td>962</td>\n",
                            "      <td>77175</td>\n",
                            "      <td>3</td>\n",
                            "      <td>debit</td>\n",
                            "      <td>2017-03-22 07:33:25.104</td>\n",
                            "    </tr>\n",
                            "    <tr>\n",
                            "      <th>2773</th>\n",
                            "      <td>2774</td>\n",
                            "      <td>78</td>\n",
                            "      <td>890</td>\n",
                            "      <td>25725</td>\n",
                            "      <td>1</td>\n",
                            "      <td>cash</td>\n",
                            "      <td>2017-03-26 10:36:43.445</td>\n",
                            "    </tr>\n",
                            "    <tr>\n",
                            "      <th>2818</th>\n",
                            "      <td>2819</td>\n",
                            "      <td>78</td>\n",
                            "      <td>869</td>\n",
                            "      <td>51450</td>\n",
                            "      <td>2</td>\n",
                            "      <td>debit</td>\n",
                            "      <td>2017-03-17 06:25:50.921</td>\n",
                            "    </tr>\n",
                            "    <tr>\n",
                            "      <th>2821</th>\n",
                            "      <td>2822</td>\n",
                            "      <td>78</td>\n",
                            "      <td>814</td>\n",
                            "      <td>51450</td>\n",
                            "      <td>2</td>\n",
                            "      <td>cash</td>\n",
                            "      <td>2017-03-02 17:13:25.271</td>\n",
                            "    </tr>\n",
                            "    <tr>\n",
                            "      <th>2906</th>\n",
                            "      <td>2907</td>\n",
                            "      <td>78</td>\n",
                            "      <td>817</td>\n",
                            "      <td>77175</td>\n",
                            "      <td>3</td>\n",
                            "      <td>debit</td>\n",
                            "      <td>2017-03-16 03:45:46.089</td>\n",
                            "    </tr>\n",
                            "    <tr>\n",
                            "      <th>2922</th>\n",
                            "      <td>2923</td>\n",
                            "      <td>78</td>\n",
                            "      <td>740</td>\n",
                            "      <td>25725</td>\n",
                            "      <td>1</td>\n",
                            "      <td>debit</td>\n",
                            "      <td>2017-03-12 20:10:58.008</td>\n",
                            "    </tr>\n",
                            "    <tr>\n",
                            "      <th>3085</th>\n",
                            "      <td>3086</td>\n",
                            "      <td>78</td>\n",
                            "      <td>910</td>\n",
                            "      <td>25725</td>\n",
                            "      <td>1</td>\n",
                            "      <td>cash</td>\n",
                            "      <td>2017-03-26 01:59:26.748</td>\n",
                            "    </tr>\n",
                            "    <tr>\n",
                            "      <th>3101</th>\n",
                            "      <td>3102</td>\n",
                            "      <td>78</td>\n",
                            "      <td>855</td>\n",
                            "      <td>51450</td>\n",
                            "      <td>2</td>\n",
                            "      <td>credit_card</td>\n",
                            "      <td>2017-03-21 05:10:34.147</td>\n",
                            "    </tr>\n",
                            "    <tr>\n",
                            "      <th>3151</th>\n",
                            "      <td>3152</td>\n",
                            "      <td>78</td>\n",
                            "      <td>745</td>\n",
                            "      <td>25725</td>\n",
                            "      <td>1</td>\n",
                            "      <td>credit_card</td>\n",
                            "      <td>2017-03-18 13:13:07.198</td>\n",
                            "    </tr>\n",
                            "    <tr>\n",
                            "      <th>3167</th>\n",
                            "      <td>3168</td>\n",
                            "      <td>78</td>\n",
                            "      <td>927</td>\n",
                            "      <td>51450</td>\n",
                            "      <td>2</td>\n",
                            "      <td>cash</td>\n",
                            "      <td>2017-03-12 12:23:07.516</td>\n",
                            "    </tr>\n",
                            "    <tr>\n",
                            "      <th>3403</th>\n",
                            "      <td>3404</td>\n",
                            "      <td>78</td>\n",
                            "      <td>928</td>\n",
                            "      <td>77175</td>\n",
                            "      <td>3</td>\n",
                            "      <td>debit</td>\n",
                            "      <td>2017-03-16 09:45:04.544</td>\n",
                            "    </tr>\n",
                            "    <tr>\n",
                            "      <th>3440</th>\n",
                            "      <td>3441</td>\n",
                            "      <td>78</td>\n",
                            "      <td>982</td>\n",
                            "      <td>25725</td>\n",
                            "      <td>1</td>\n",
                            "      <td>debit</td>\n",
                            "      <td>2017-03-19 19:02:53.732</td>\n",
                            "    </tr>\n",
                            "    <tr>\n",
                            "      <th>3705</th>\n",
                            "      <td>3706</td>\n",
                            "      <td>78</td>\n",
                            "      <td>828</td>\n",
                            "      <td>51450</td>\n",
                            "      <td>2</td>\n",
                            "      <td>credit_card</td>\n",
                            "      <td>2017-03-14 20:43:14.502</td>\n",
                            "    </tr>\n",
                            "    <tr>\n",
                            "      <th>3724</th>\n",
                            "      <td>3725</td>\n",
                            "      <td>78</td>\n",
                            "      <td>766</td>\n",
                            "      <td>77175</td>\n",
                            "      <td>3</td>\n",
                            "      <td>credit_card</td>\n",
                            "      <td>2017-03-16 14:13:25.868</td>\n",
                            "    </tr>\n",
                            "    <tr>\n",
                            "      <th>3780</th>\n",
                            "      <td>3781</td>\n",
                            "      <td>78</td>\n",
                            "      <td>889</td>\n",
                            "      <td>25725</td>\n",
                            "      <td>1</td>\n",
                            "      <td>cash</td>\n",
                            "      <td>2017-03-11 21:14:49.542</td>\n",
                            "    </tr>\n",
                            "    <tr>\n",
                            "      <th>4040</th>\n",
                            "      <td>4041</td>\n",
                            "      <td>78</td>\n",
                            "      <td>852</td>\n",
                            "      <td>25725</td>\n",
                            "      <td>1</td>\n",
                            "      <td>cash</td>\n",
                            "      <td>2017-03-02 14:31:11.566</td>\n",
                            "    </tr>\n",
                            "    <tr>\n",
                            "      <th>4079</th>\n",
                            "      <td>4080</td>\n",
                            "      <td>78</td>\n",
                            "      <td>946</td>\n",
                            "      <td>51450</td>\n",
                            "      <td>2</td>\n",
                            "      <td>cash</td>\n",
                            "      <td>2017-03-20 21:13:59.919</td>\n",
                            "    </tr>\n",
                            "    <tr>\n",
                            "      <th>4192</th>\n",
                            "      <td>4193</td>\n",
                            "      <td>78</td>\n",
                            "      <td>787</td>\n",
                            "      <td>77175</td>\n",
                            "      <td>3</td>\n",
                            "      <td>credit_card</td>\n",
                            "      <td>2017-03-18 09:25:31.863</td>\n",
                            "    </tr>\n",
                            "    <tr>\n",
                            "      <th>4311</th>\n",
                            "      <td>4312</td>\n",
                            "      <td>78</td>\n",
                            "      <td>960</td>\n",
                            "      <td>51450</td>\n",
                            "      <td>2</td>\n",
                            "      <td>debit</td>\n",
                            "      <td>2017-03-01 03:02:10.223</td>\n",
                            "    </tr>\n",
                            "    <tr>\n",
                            "      <th>4412</th>\n",
                            "      <td>4413</td>\n",
                            "      <td>78</td>\n",
                            "      <td>756</td>\n",
                            "      <td>51450</td>\n",
                            "      <td>2</td>\n",
                            "      <td>debit</td>\n",
                            "      <td>2017-03-02 04:13:38.530</td>\n",
                            "    </tr>\n",
                            "    <tr>\n",
                            "      <th>4420</th>\n",
                            "      <td>4421</td>\n",
                            "      <td>78</td>\n",
                            "      <td>969</td>\n",
                            "      <td>77175</td>\n",
                            "      <td>3</td>\n",
                            "      <td>debit</td>\n",
                            "      <td>2017-03-09 15:21:34.551</td>\n",
                            "    </tr>\n",
                            "    <tr>\n",
                            "      <th>4505</th>\n",
                            "      <td>4506</td>\n",
                            "      <td>78</td>\n",
                            "      <td>866</td>\n",
                            "      <td>25725</td>\n",
                            "      <td>1</td>\n",
                            "      <td>debit</td>\n",
                            "      <td>2017-03-22 22:06:00.804</td>\n",
                            "    </tr>\n",
                            "    <tr>\n",
                            "      <th>4584</th>\n",
                            "      <td>4585</td>\n",
                            "      <td>78</td>\n",
                            "      <td>997</td>\n",
                            "      <td>25725</td>\n",
                            "      <td>1</td>\n",
                            "      <td>cash</td>\n",
                            "      <td>2017-03-25 21:48:43.570</td>\n",
                            "    </tr>\n",
                            "    <tr>\n",
                            "      <th>4715</th>\n",
                            "      <td>4716</td>\n",
                            "      <td>78</td>\n",
                            "      <td>818</td>\n",
                            "      <td>77175</td>\n",
                            "      <td>3</td>\n",
                            "      <td>debit</td>\n",
                            "      <td>2017-03-05 05:10:43.633</td>\n",
                            "    </tr>\n",
                            "    <tr>\n",
                            "      <th>4918</th>\n",
                            "      <td>4919</td>\n",
                            "      <td>78</td>\n",
                            "      <td>823</td>\n",
                            "      <td>25725</td>\n",
                            "      <td>1</td>\n",
                            "      <td>cash</td>\n",
                            "      <td>2017-03-15 13:26:46.262</td>\n",
                            "    </tr>\n",
                            "  </tbody>\n",
                            "</table>\n",
                            "</div>"
                        ],
                        "text/plain": [
                            "      order_id  shop_id  user_id  order_amount  total_items payment_method  \\\n",
                            "160        161       78      990         25725            1    credit_card   \n",
                            "490        491       78      936         51450            2          debit   \n",
                            "493        494       78      983         51450            2           cash   \n",
                            "511        512       78      967         51450            2           cash   \n",
                            "617        618       78      760         51450            2           cash   \n",
                            "691        692       78      878        154350            6          debit   \n",
                            "1056      1057       78      800         25725            1          debit   \n",
                            "1193      1194       78      944         25725            1          debit   \n",
                            "1204      1205       78      970         25725            1    credit_card   \n",
                            "1259      1260       78      775         77175            3    credit_card   \n",
                            "1384      1385       78      867         25725            1           cash   \n",
                            "1419      1420       78      912         25725            1           cash   \n",
                            "1452      1453       78      812         25725            1    credit_card   \n",
                            "1529      1530       78      810         51450            2           cash   \n",
                            "2270      2271       78      855         25725            1    credit_card   \n",
                            "2452      2453       78      709         51450            2           cash   \n",
                            "2492      2493       78      834        102900            4          debit   \n",
                            "2495      2496       78      707         51450            2           cash   \n",
                            "2512      2513       78      935         51450            2          debit   \n",
                            "2548      2549       78      861         25725            1           cash   \n",
                            "2564      2565       78      915         77175            3          debit   \n",
                            "2690      2691       78      962         77175            3          debit   \n",
                            "2773      2774       78      890         25725            1           cash   \n",
                            "2818      2819       78      869         51450            2          debit   \n",
                            "2821      2822       78      814         51450            2           cash   \n",
                            "2906      2907       78      817         77175            3          debit   \n",
                            "2922      2923       78      740         25725            1          debit   \n",
                            "3085      3086       78      910         25725            1           cash   \n",
                            "3101      3102       78      855         51450            2    credit_card   \n",
                            "3151      3152       78      745         25725            1    credit_card   \n",
                            "3167      3168       78      927         51450            2           cash   \n",
                            "3403      3404       78      928         77175            3          debit   \n",
                            "3440      3441       78      982         25725            1          debit   \n",
                            "3705      3706       78      828         51450            2    credit_card   \n",
                            "3724      3725       78      766         77175            3    credit_card   \n",
                            "3780      3781       78      889         25725            1           cash   \n",
                            "4040      4041       78      852         25725            1           cash   \n",
                            "4079      4080       78      946         51450            2           cash   \n",
                            "4192      4193       78      787         77175            3    credit_card   \n",
                            "4311      4312       78      960         51450            2          debit   \n",
                            "4412      4413       78      756         51450            2          debit   \n",
                            "4420      4421       78      969         77175            3          debit   \n",
                            "4505      4506       78      866         25725            1          debit   \n",
                            "4584      4585       78      997         25725            1           cash   \n",
                            "4715      4716       78      818         77175            3          debit   \n",
                            "4918      4919       78      823         25725            1           cash   \n",
                            "\n",
                            "                  created_at  \n",
                            "160  2017-03-12 05:56:56.834  \n",
                            "490  2017-03-26 17:08:18.911  \n",
                            "493  2017-03-16 21:39:35.400  \n",
                            "511  2017-03-09 07:23:13.640  \n",
                            "617  2017-03-18 11:18:41.848  \n",
                            "691  2017-03-27 22:51:43.203  \n",
                            "1056 2017-03-15 10:16:44.830  \n",
                            "1193 2017-03-16 16:38:25.551  \n",
                            "1204 2017-03-17 22:32:21.438  \n",
                            "1259 2017-03-27 09:27:19.843  \n",
                            "1384 2017-03-17 16:38:06.279  \n",
                            "1419 2017-03-30 12:23:42.551  \n",
                            "1452 2017-03-17 18:09:54.089  \n",
                            "1529 2017-03-29 07:12:01.466  \n",
                            "2270 2017-03-14 23:58:21.635  \n",
                            "2452 2017-03-27 11:04:04.363  \n",
                            "2492 2017-03-04 04:37:33.848  \n",
                            "2495 2017-03-26 04:38:52.497  \n",
                            "2512 2017-03-18 18:57:13.421  \n",
                            "2548 2017-03-17 19:35:59.663  \n",
                            "2564 2017-03-25 01:19:35.410  \n",
                            "2690 2017-03-22 07:33:25.104  \n",
                            "2773 2017-03-26 10:36:43.445  \n",
                            "2818 2017-03-17 06:25:50.921  \n",
                            "2821 2017-03-02 17:13:25.271  \n",
                            "2906 2017-03-16 03:45:46.089  \n",
                            "2922 2017-03-12 20:10:58.008  \n",
                            "3085 2017-03-26 01:59:26.748  \n",
                            "3101 2017-03-21 05:10:34.147  \n",
                            "3151 2017-03-18 13:13:07.198  \n",
                            "3167 2017-03-12 12:23:07.516  \n",
                            "3403 2017-03-16 09:45:04.544  \n",
                            "3440 2017-03-19 19:02:53.732  \n",
                            "3705 2017-03-14 20:43:14.502  \n",
                            "3724 2017-03-16 14:13:25.868  \n",
                            "3780 2017-03-11 21:14:49.542  \n",
                            "4040 2017-03-02 14:31:11.566  \n",
                            "4079 2017-03-20 21:13:59.919  \n",
                            "4192 2017-03-18 09:25:31.863  \n",
                            "4311 2017-03-01 03:02:10.223  \n",
                            "4412 2017-03-02 04:13:38.530  \n",
                            "4420 2017-03-09 15:21:34.551  \n",
                            "4505 2017-03-22 22:06:00.804  \n",
                            "4584 2017-03-25 21:48:43.570  \n",
                            "4715 2017-03-05 05:10:43.633  \n",
                            "4918 2017-03-15 13:26:46.262  "
                        ]
                    },
                    "metadata": {},
                    "execution_count": 44
                }
            ],
            "metadata": {}
        },
        {
            "cell_type": "markdown",
            "source": [
                "Although we suspected that user_id=878 had a high order amount = 154350 at shop_id=78, we notice that this user has purchased 6 items and the average price of each item is in correlation with the price of 1 item purchased at this shop, that is, 25725.  Therefore, this user_id is not suspicious and should be kept in our analysis."
            ],
            "metadata": {}
        },
        {
            "cell_type": "code",
            "execution_count": 45,
            "source": [
                "df_sub = df_user[df_user['user_id']!=607]\r\n",
                "df_sub.describe()"
            ],
            "outputs": [
                {
                    "output_type": "execute_result",
                    "data": {
                        "text/html": [
                            "<div>\n",
                            "<style scoped>\n",
                            "    .dataframe tbody tr th:only-of-type {\n",
                            "        vertical-align: middle;\n",
                            "    }\n",
                            "\n",
                            "    .dataframe tbody tr th {\n",
                            "        vertical-align: top;\n",
                            "    }\n",
                            "\n",
                            "    .dataframe thead th {\n",
                            "        text-align: right;\n",
                            "    }\n",
                            "</style>\n",
                            "<table border=\"1\" class=\"dataframe\">\n",
                            "  <thead>\n",
                            "    <tr style=\"text-align: right;\">\n",
                            "      <th></th>\n",
                            "      <th>user_id</th>\n",
                            "      <th>mean_amount</th>\n",
                            "    </tr>\n",
                            "  </thead>\n",
                            "  <tbody>\n",
                            "    <tr>\n",
                            "      <th>count</th>\n",
                            "      <td>300.000000</td>\n",
                            "      <td>300.000000</td>\n",
                            "    </tr>\n",
                            "    <tr>\n",
                            "      <th>mean</th>\n",
                            "      <td>849.500000</td>\n",
                            "      <td>784.945856</td>\n",
                            "    </tr>\n",
                            "    <tr>\n",
                            "      <th>std</th>\n",
                            "      <td>86.746758</td>\n",
                            "      <td>1429.818639</td>\n",
                            "    </tr>\n",
                            "    <tr>\n",
                            "      <th>min</th>\n",
                            "      <td>700.000000</td>\n",
                            "      <td>209.157895</td>\n",
                            "    </tr>\n",
                            "    <tr>\n",
                            "      <th>25%</th>\n",
                            "      <td>774.750000</td>\n",
                            "      <td>282.553571</td>\n",
                            "    </tr>\n",
                            "    <tr>\n",
                            "      <th>50%</th>\n",
                            "      <td>849.500000</td>\n",
                            "      <td>312.188235</td>\n",
                            "    </tr>\n",
                            "    <tr>\n",
                            "      <th>75%</th>\n",
                            "      <td>924.250000</td>\n",
                            "      <td>348.709627</td>\n",
                            "    </tr>\n",
                            "    <tr>\n",
                            "      <th>max</th>\n",
                            "      <td>999.000000</td>\n",
                            "      <td>14266.909091</td>\n",
                            "    </tr>\n",
                            "  </tbody>\n",
                            "</table>\n",
                            "</div>"
                        ],
                        "text/plain": [
                            "          user_id   mean_amount\n",
                            "count  300.000000    300.000000\n",
                            "mean   849.500000    784.945856\n",
                            "std     86.746758   1429.818639\n",
                            "min    700.000000    209.157895\n",
                            "25%    774.750000    282.553571\n",
                            "50%    849.500000    312.188235\n",
                            "75%    924.250000    348.709627\n",
                            "max    999.000000  14266.909091"
                        ]
                    },
                    "metadata": {},
                    "execution_count": 45
                }
            ],
            "metadata": {}
        },
        {
            "cell_type": "markdown",
            "source": [
                "(b) We will be using mean as a preferred metric.\r\n",
                "(c) its value is 784.945."
            ],
            "metadata": {}
        },
        {
            "cell_type": "markdown",
            "source": [],
            "metadata": {}
        }
    ],
    "metadata": {
        "orig_nbformat": 4,
        "language_info": {
            "name": "python",
            "version": "3.8.8",
            "mimetype": "text/x-python",
            "codemirror_mode": {
                "name": "ipython",
                "version": 3
            },
            "pygments_lexer": "ipython3",
            "nbconvert_exporter": "python",
            "file_extension": ".py"
        },
        "kernelspec": {
            "name": "python3",
            "display_name": "Python 3.8.8 64-bit ('base': conda)"
        },
        "interpreter": {
            "hash": "a8f61be024eba58adef938c9aa1e29e02cb3dece83a5348b1a2dafd16a070453"
        }
    },
    "nbformat": 4,
    "nbformat_minor": 2
}
